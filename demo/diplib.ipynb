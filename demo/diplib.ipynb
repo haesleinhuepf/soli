{
 "cells": [
  {
   "cell_type": "code",
   "execution_count": 1,
   "id": "99615f01-b7a1-4349-acfb-fd860794034a",
   "metadata": {
    "tags": []
   },
   "outputs": [
    {
     "name": "stdout",
     "output_type": "stream",
     "text": [
      "DIPlib -- a quantitative image analysis library\n",
      "Version 3.4.3 (Mar 21 2024)\n",
      "For more information see https://diplib.org\n"
     ]
    }
   ],
   "source": [
    "import diplib as dip\n",
    "import numpy as np\n",
    "\n",
    "# draw a sphere into a 3D binary image\n",
    "sphere_image = np.zeros((100, 100, 100), dtype=np.uint8)\n",
    "center = np.array(sphere_image.shape) // 2\n",
    "Z, Y, X = np.ogrid[:100, :100, :100]\n",
    "sphere = (X - center[2])**2 + (Y - center[1])**2 + (Z - center[0])**2 <= 40**2\n",
    "sphere_image[sphere] = 1"
   ]
  },
  {
   "cell_type": "code",
   "execution_count": 3,
   "id": "c5afb0e1-a003-4c72-9cf7-2e2376a48daa",
   "metadata": {
    "tags": []
   },
   "outputs": [
    {
     "data": {
      "image/png": "[encoded data removed]",
      "text/plain": [
       "<Figure size 640x480 with 1 Axes>"
      ]
     },
     "metadata": {},
     "output_type": "display_data"
    }
   ],
   "source": [
    "img = dip.Image(sphere_image)\n",
    "img.Show()"
   ]
  },
  {
   "cell_type": "code",
   "execution_count": 9,
   "id": "eb313a32-3c8c-4256-994e-397af3d65463",
   "metadata": {
    "tags": []
   },
   "outputs": [],
   "source": [
    "measurement = dip.MeasurementTool.Measure(sphere_image, sphere_image, features=[\"SurfaceArea\", \"P2A\", \"Size\"])"
   ]
  },
  {
   "cell_type": "code",
   "execution_count": 32,
   "id": "65b2b747-e3ab-4987-8b40-c7a1261d9faa",
   "metadata": {
    "tags": []
   },
   "outputs": [
    {
     "data": {
      "text/html": [
       "<div>\n",
       "<style scoped>\n",
       "    .dataframe tbody tr th:only-of-type {\n",
       "        vertical-align: middle;\n",
       "    }\n",
       "\n",
       "    .dataframe tbody tr th {\n",
       "        vertical-align: top;\n",
       "    }\n",
       "\n",
       "    .dataframe thead th {\n",
       "        text-align: right;\n",
       "    }\n",
       "</style>\n",
       "<table border=\"1\" class=\"dataframe\">\n",
       "  <thead>\n",
       "    <tr style=\"text-align: right;\">\n",
       "      <th></th>\n",
       "      <th>label</th>\n",
       "      <th>SurfaceArea</th>\n",
       "      <th>P2A</th>\n",
       "      <th>Size</th>\n",
       "    </tr>\n",
       "  </thead>\n",
       "  <tbody>\n",
       "    <tr>\n",
       "      <th>0</th>\n",
       "      <td>1</td>\n",
       "      <td>20067.516301</td>\n",
       "      <td>0.998313</td>\n",
       "      <td>267761.0</td>\n",
       "    </tr>\n",
       "  </tbody>\n",
       "</table>\n",
       "</div>"
      ],
      "text/plain": [
       "   label   SurfaceArea       P2A      Size\n",
       "0      1  20067.516301  0.998313  267761.0"
      ]
     },
     "execution_count": 32,
     "metadata": {},
     "output_type": "execute_result"
    }
   ],
   "source": [
    "import pandas as pd\n",
    "objects = [o for o in measurement.Objects()]\n",
    "a_dict = {\"label\": objects}\n",
    "for f in measurement.Features():\n",
    "    a_dict[f.name] = [measurement[f.name][o][0] for o in objects]\n",
    "\n",
    "pd.DataFrame(a_dict)"
   ]
  },
  {
   "cell_type": "code",
   "execution_count": 15,
   "id": "58fd7d5d-68a4-44ab-99f5-df6790a56acc",
   "metadata": {
    "tags": []
   },
   "outputs": [
    {
     "data": {
      "text/plain": [
       "['SurfaceArea', 'P2A', 'Size']"
      ]
     },
     "execution_count": 15,
     "metadata": {},
     "output_type": "execute_result"
    }
   ],
   "source": []
  },
  {
   "cell_type": "code",
   "execution_count": 19,
   "id": "c6fe8d4b-c231-4fb2-9779-23c8842d6309",
   "metadata": {
    "tags": []
   },
   "outputs": [
    {
     "data": {
      "text/plain": [
       "[<ValueInformation: name=SurfaceArea, units=px^2>,\n",
       " <ValueInformation: name=, units=>,\n",
       " <ValueInformation: name=, units=px^3>]"
      ]
     },
     "execution_count": 19,
     "metadata": {},
     "output_type": "execute_result"
    }
   ],
   "source": [
    "[f for f in measurement.Values()]"
   ]
  },
  {
   "cell_type": "code",
   "execution_count": 23,
   "id": "0ce68ec6-e98d-4f40-8c6b-f822c1dee32b",
   "metadata": {
    "tags": []
   },
   "outputs": [
    {
     "data": {
      "text/plain": [
       "[1]"
      ]
     },
     "execution_count": 23,
     "metadata": {},
     "output_type": "execute_result"
    }
   ],
   "source": [
    "[o for o in measurement.Objects()]"
   ]
  },
  {
   "cell_type": "code",
   "execution_count": null,
   "id": "34949eab-e107-4279-acc1-4732b4a400f9",
   "metadata": {},
   "outputs": [],
   "source": []
  }
 ],
 "metadata": {
  "kernelspec": {
   "display_name": "Python 3 (ipykernel)",
   "language": "python",
   "name": "python3"
  },
  "language_info": {
   "codemirror_mode": {
    "name": "ipython",
    "version": 3
   },
   "file_extension": ".py",
   "mimetype": "text/x-python",
   "name": "python",
   "nbconvert_exporter": "python",
   "pygments_lexer": "ipython3",
   "version": "3.9.19"
  }
 },
 "nbformat": 4,
 "nbformat_minor": 5
}
